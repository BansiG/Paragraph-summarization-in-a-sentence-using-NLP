{
 "cells": [
  {
   "cell_type": "code",
   "execution_count": 20,
   "metadata": {},
   "outputs": [
    {
     "name": "stdout",
     "output_type": "stream",
     "text": [
      "*************************************************************\n",
      "\n",
      "The TEXT you enetered is : \n",
      " \n",
      " ['Advertising, by the definition, is a paid form of non-personal communication to promote the goods and services.', 'It simplifies the choice of consumers by creating an awareness among people about several brands and products available in the market.', 'Advertisements are essential for starting a new business.', 'Promoting sales is the main motive of a large enterprise.', 'Advertisements rule every aspect of our lives and provide a link between an individual and the world.', 'As advertisements help in business expansion, the companies spend crores or millions on them.', 'Advertisements are contained in various means of communication such as magazines, newspapers, television, radio, bill boards etc.', 'Attractive pictures, slogans, taglines etc shown in the advertisements lure customers, thereby pushing up sales.']\n",
      "\n",
      " Title to the text is :\n"
     ]
    },
    {
     "data": {
      "text/plain": [
       "'advertisements rule every aspect'"
      ]
     },
     "execution_count": 20,
     "metadata": {},
     "output_type": "execute_result"
    }
   ],
   "source": [
    "from rake_nltk import Rake\n",
    "import requests\n",
    "import nltk\n",
    "from nltk.corpus import stopwords\n",
    "from nltk.tokenize import word_tokenize, sent_tokenize\n",
    "from string import punctuation\n",
    "from nltk.corpus import state_union\n",
    "from nltk.tokenize import PunktSentenceTokenizer\n",
    "from operator import itemgetter\n",
    "\n",
    "def givetitle1(text):\n",
    "   \n",
    "    sentences = (sent_tokenize(text))\n",
    "    print(\"*************************************************************\\n\")\n",
    "    print(\"The TEXT you enetered is : \\n \\n\",sentences)\n",
    "    \n",
    "    allwords = word_tokenize(text)\n",
    "    stop_words = set(stopwords.words('english'))\n",
    "    wordTable=dict()\n",
    "    for w in allwords:\n",
    "        if w not in stop_words:\n",
    "            if w in wordTable:\n",
    "                wordTable[w] +=1\n",
    "            else:\n",
    "                wordTable[w]=1\n",
    "            \n",
    "#     print(\"wordTable\",wordTable)\n",
    "    r = Rake()\n",
    "    r.extract_keywords_from_text(text)\n",
    "    \n",
    "    keywords = r.get_ranked_phrases()\n",
    "    keynews=\" \".join(keywords)\n",
    "#     print(\"*************************************************************\\n\")\n",
    "#     print(\"KEYWORDS : \\n\",keywords)\n",
    "\n",
    "    freqTable = dict()\n",
    "\n",
    "    keynews.replace('\"','')\n",
    "    keynews.replace(',','')\n",
    "    \n",
    "    \n",
    "    for j in keywords:\n",
    "        for word in wordTable:\n",
    "            \n",
    "            if word in j.lower():\n",
    "                if j in freqTable:\n",
    "                    freqTable[j] += wordTable[word]\n",
    "                else:\n",
    "                    freqTable[j] = 1\n",
    "#     print(\"*************************************************************\\n\")                \n",
    "#     print(\"freqTable: \\n\",freqTable)\n",
    "\n",
    "    sorted_freqTable = sorted(freqTable.items(), key=lambda x: x[1], reverse=True)\n",
    "#     print(\"*************************************************************\\n\")\n",
    "#     print(sorted_freqTable)\n",
    "    \n",
    "#     sentTable = dict()\n",
    "#     for sent in sentences:\n",
    "#         for j in freqTable:\n",
    "#             if j in sent.lower():\n",
    "#                 if sent in sentTable:\n",
    "#                     sentTable[sent] += freqTable[j]\n",
    "#                 else:\n",
    "#                     sentTable[sent]=1\n",
    "#     sorted_sentTable = sorted(sentTable.items(), key=lambda x: x[1], reverse=True) \n",
    "#     text = sorted_sentTable[0]\n",
    "   \n",
    "    title = ''\n",
    "#     for sent in sentences:        \n",
    "    for sent in sorted_freqTable:\n",
    "        title +=  \" \" + sent[0]\n",
    "        break\n",
    "   \n",
    "    r = Rake()\n",
    "    r.extract_keywords_from_text(title)\n",
    "    \n",
    "    k = r.get_ranked_phrases()\n",
    "    Title=\" \".join(k)\n",
    "    print(\"\\n Title to the text is :\")\n",
    "    return Title\n",
    "\n",
    "paragraph = \"Advertising, by the definition, is a paid form of non-personal communication to promote the goods and services. It simplifies the choice of consumers by creating an awareness among people about several brands and products available in the market. Advertisements are essential for starting a new business. Promoting sales is the main motive of a large enterprise. Advertisements rule every aspect of our lives and provide a link between an individual and the world. As advertisements help in business expansion, the companies spend crores or millions on them. Advertisements are contained in various means of communication such as magazines, newspapers, television, radio, bill boards etc. Attractive pictures, slogans, taglines etc shown in the advertisements lure customers, thereby pushing up sales.\"\n",
    "paragraph = paragraph.replace('\"','')\n",
    "givetitle1(paragraph)        "
   ]
  },
  {
   "cell_type": "code",
   "execution_count": null,
   "metadata": {},
   "outputs": [],
   "source": []
  }
 ],
 "metadata": {
  "kernelspec": {
   "display_name": "Python 3",
   "language": "python",
   "name": "python3"
  },
  "language_info": {
   "codemirror_mode": {
    "name": "ipython",
    "version": 3
   },
   "file_extension": ".py",
   "mimetype": "text/x-python",
   "name": "python",
   "nbconvert_exporter": "python",
   "pygments_lexer": "ipython3",
   "version": "3.6.5"
  }
 },
 "nbformat": 4,
 "nbformat_minor": 2
}
